{
  "nbformat": 4,
  "nbformat_minor": 0,
  "metadata": {
    "colab": {
      "provenance": [],
      "authorship_tag": "ABX9TyM5ndKeY/2NsLlPFCwoT3Bj",
      "include_colab_link": true
    },
    "kernelspec": {
      "name": "python3",
      "display_name": "Python 3"
    },
    "language_info": {
      "name": "python"
    }
  },
  "cells": [
    {
      "cell_type": "markdown",
      "metadata": {
        "id": "view-in-github",
        "colab_type": "text"
      },
      "source": [
        "<a href=\"https://colab.research.google.com/github/10Vaibhav/HMI/blob/main/HyperSpectral_Classification_1D.ipynb\" target=\"_parent\"><img src=\"https://colab.research.google.com/assets/colab-badge.svg\" alt=\"Open In Colab\"/></a>"
      ]
    },
    {
      "cell_type": "code",
      "execution_count": null,
      "metadata": {
        "id": "QnagO_63daZS",
        "colab": {
          "base_uri": "https://localhost:8080/"
        },
        "outputId": "71e3c8d0-7c84-4496-87d8-f8e47d9530eb"
      },
      "outputs": [
        {
          "output_type": "stream",
          "name": "stdout",
          "text": [
            "Requirement already satisfied: earthpy in /usr/local/lib/python3.11/dist-packages (0.9.4)\n",
            "Requirement already satisfied: geopandas in /usr/local/lib/python3.11/dist-packages (from earthpy) (1.0.1)\n",
            "Requirement already satisfied: matplotlib>=2.0.0 in /usr/local/lib/python3.11/dist-packages (from earthpy) (3.10.0)\n",
            "Requirement already satisfied: numpy>=1.14.0 in /usr/local/lib/python3.11/dist-packages (from earthpy) (2.0.2)\n",
            "Requirement already satisfied: rasterio in /usr/local/lib/python3.11/dist-packages (from earthpy) (1.4.3)\n",
            "Requirement already satisfied: scikit-image in /usr/local/lib/python3.11/dist-packages (from earthpy) (0.25.2)\n",
            "Requirement already satisfied: requests in /usr/local/lib/python3.11/dist-packages (from earthpy) (2.32.3)\n",
            "Requirement already satisfied: contourpy>=1.0.1 in /usr/local/lib/python3.11/dist-packages (from matplotlib>=2.0.0->earthpy) (1.3.1)\n",
            "Requirement already satisfied: cycler>=0.10 in /usr/local/lib/python3.11/dist-packages (from matplotlib>=2.0.0->earthpy) (0.12.1)\n",
            "Requirement already satisfied: fonttools>=4.22.0 in /usr/local/lib/python3.11/dist-packages (from matplotlib>=2.0.0->earthpy) (4.56.0)\n",
            "Requirement already satisfied: kiwisolver>=1.3.1 in /usr/local/lib/python3.11/dist-packages (from matplotlib>=2.0.0->earthpy) (1.4.8)\n",
            "Requirement already satisfied: packaging>=20.0 in /usr/local/lib/python3.11/dist-packages (from matplotlib>=2.0.0->earthpy) (24.2)\n",
            "Requirement already satisfied: pillow>=8 in /usr/local/lib/python3.11/dist-packages (from matplotlib>=2.0.0->earthpy) (11.1.0)\n",
            "Requirement already satisfied: pyparsing>=2.3.1 in /usr/local/lib/python3.11/dist-packages (from matplotlib>=2.0.0->earthpy) (3.2.3)\n",
            "Requirement already satisfied: python-dateutil>=2.7 in /usr/local/lib/python3.11/dist-packages (from matplotlib>=2.0.0->earthpy) (2.8.2)\n",
            "Requirement already satisfied: pyogrio>=0.7.2 in /usr/local/lib/python3.11/dist-packages (from geopandas->earthpy) (0.10.0)\n",
            "Requirement already satisfied: pandas>=1.4.0 in /usr/local/lib/python3.11/dist-packages (from geopandas->earthpy) (2.2.2)\n",
            "Requirement already satisfied: pyproj>=3.3.0 in /usr/local/lib/python3.11/dist-packages (from geopandas->earthpy) (3.7.1)\n",
            "Requirement already satisfied: shapely>=2.0.0 in /usr/local/lib/python3.11/dist-packages (from geopandas->earthpy) (2.0.7)\n",
            "Requirement already satisfied: affine in /usr/local/lib/python3.11/dist-packages (from rasterio->earthpy) (2.4.0)\n",
            "Requirement already satisfied: attrs in /usr/local/lib/python3.11/dist-packages (from rasterio->earthpy) (25.3.0)\n",
            "Requirement already satisfied: certifi in /usr/local/lib/python3.11/dist-packages (from rasterio->earthpy) (2025.1.31)\n",
            "Requirement already satisfied: click>=4.0 in /usr/local/lib/python3.11/dist-packages (from rasterio->earthpy) (8.1.8)\n",
            "Requirement already satisfied: cligj>=0.5 in /usr/local/lib/python3.11/dist-packages (from rasterio->earthpy) (0.7.2)\n",
            "Requirement already satisfied: click-plugins in /usr/local/lib/python3.11/dist-packages (from rasterio->earthpy) (1.1.1)\n",
            "Requirement already satisfied: charset-normalizer<4,>=2 in /usr/local/lib/python3.11/dist-packages (from requests->earthpy) (3.4.1)\n",
            "Requirement already satisfied: idna<4,>=2.5 in /usr/local/lib/python3.11/dist-packages (from requests->earthpy) (3.10)\n",
            "Requirement already satisfied: urllib3<3,>=1.21.1 in /usr/local/lib/python3.11/dist-packages (from requests->earthpy) (2.3.0)\n",
            "Requirement already satisfied: scipy>=1.11.4 in /usr/local/lib/python3.11/dist-packages (from scikit-image->earthpy) (1.14.1)\n",
            "Requirement already satisfied: networkx>=3.0 in /usr/local/lib/python3.11/dist-packages (from scikit-image->earthpy) (3.4.2)\n",
            "Requirement already satisfied: imageio!=2.35.0,>=2.33 in /usr/local/lib/python3.11/dist-packages (from scikit-image->earthpy) (2.37.0)\n",
            "Requirement already satisfied: tifffile>=2022.8.12 in /usr/local/lib/python3.11/dist-packages (from scikit-image->earthpy) (2025.3.13)\n",
            "Requirement already satisfied: lazy-loader>=0.4 in /usr/local/lib/python3.11/dist-packages (from scikit-image->earthpy) (0.4)\n",
            "Requirement already satisfied: pytz>=2020.1 in /usr/local/lib/python3.11/dist-packages (from pandas>=1.4.0->geopandas->earthpy) (2025.2)\n",
            "Requirement already satisfied: tzdata>=2022.7 in /usr/local/lib/python3.11/dist-packages (from pandas>=1.4.0->geopandas->earthpy) (2025.2)\n",
            "Requirement already satisfied: six>=1.5 in /usr/local/lib/python3.11/dist-packages (from python-dateutil>=2.7->matplotlib>=2.0.0->earthpy) (1.17.0)\n"
          ]
        }
      ],
      "source": [
        "!pip install earthpy"
      ]
    },
    {
      "cell_type": "markdown",
      "source": [
        "# Import Libraries\n"
      ],
      "metadata": {
        "id": "-mrLjB5rAA-Q"
      }
    },
    {
      "cell_type": "code",
      "source": [
        "import matplotlib.pyplot as plt\n",
        "import numpy as np\n",
        "import seaborn as sns\n",
        "import earthpy.spatial as es\n",
        "import earthpy.plot as ep\n",
        "import plotly.graph_objects as go\n",
        "import plotly.express as px\n",
        "from scipy.io import loadmat\n",
        "import pandas as pd\n",
        "from sklearn.preprocessing import minmax_scale\n",
        "from sklearn.model_selection import train_test_split\n",
        "from sklearn.metrics import (accuracy_score, confusion_matrix, classification_report)"
      ],
      "metadata": {
        "id": "v4fLUwJigXmq"
      },
      "execution_count": null,
      "outputs": []
    },
    {
      "cell_type": "code",
      "source": [
        "import tensorflow as tf\n",
        "from tensorflow import keras\n",
        "from tensorflow.keras.layers import Input, Dense, Conv1D, MaxPooling1D, Dropout, Flatten\n",
        "from tensorflow.keras.models import Sequential\n",
        "from tensorflow.keras.utils import to_categorical\n",
        "from tensorflow.keras.callbacks import EarlyStopping, ModelCheckpoint, TensorBoard\n",
        "from tqdm import tqdm\n",
        "from numpy.random import seed\n",
        "from time import time"
      ],
      "metadata": {
        "id": "aLgP2V40iyC-"
      },
      "execution_count": null,
      "outputs": []
    },
    {
      "cell_type": "code",
      "source": [
        "seed(11)"
      ],
      "metadata": {
        "id": "Jgdkwb-3kiNE"
      },
      "execution_count": null,
      "outputs": []
    },
    {
      "cell_type": "markdown",
      "source": [
        "# Load Data"
      ],
      "metadata": {
        "id": "g8q4kwOJAW65"
      }
    },
    {
      "cell_type": "code",
      "source": [
        "data = loadmat('Pavia.mat')"
      ],
      "metadata": {
        "id": "RudpRcrOx5cS"
      },
      "execution_count": null,
      "outputs": []
    },
    {
      "cell_type": "code",
      "source": [
        "print(data)"
      ],
      "metadata": {
        "colab": {
          "base_uri": "https://localhost:8080/"
        },
        "id": "dwYBBudlzhU4",
        "outputId": "0cfe1953-a323-4a50-9c3c-6d7c0aa5f25c"
      },
      "execution_count": null,
      "outputs": [
        {
          "output_type": "stream",
          "name": "stdout",
          "text": [
            "{'__header__': b'MATLAB 5.0 MAT-file, Platform: GLNXA64, Created on: Fri May 20 18:20:56 2011', '__version__': '1.0', '__globals__': [], 'pavia': array([[[ 854,  601,  350, ..., 3664, 3636, 3643],\n",
            "        [ 527,  642,  575, ..., 3834, 3725, 3768],\n",
            "        [ 374,  322,  179, ..., 4318, 4311, 4321],\n",
            "        ...,\n",
            "        [ 367,  432,  461, ..., 2582, 2504, 2512],\n",
            "        [ 261,  311,  366, ..., 2269, 2174, 2163],\n",
            "        [1059,  678,  403, ..., 2245, 2135, 2136]],\n",
            "\n",
            "       [[1060,  909,  596, ..., 2963, 2967, 2974],\n",
            "        [ 707,  757,  646, ..., 3508, 3534, 3648],\n",
            "        [ 143,  419,  417, ..., 4650, 4612, 4638],\n",
            "        ...,\n",
            "        [ 465,  547,  537, ..., 3156, 3052, 3035],\n",
            "        [ 884,  615,  401, ..., 2792, 2667, 2639],\n",
            "        [ 756,  401,  213, ..., 2600, 2484, 2445]],\n",
            "\n",
            "       [[ 532,  545,  594, ..., 1675, 1653, 1680],\n",
            "        [ 523,  491,  321, ..., 3339, 3349, 3403],\n",
            "        [ 816,  681,  369, ..., 4627, 4600, 4650],\n",
            "        ...,\n",
            "        [ 408,  539,  436, ..., 3099, 3005, 3006],\n",
            "        [ 393,  447,  476, ..., 3172, 3048, 3032],\n",
            "        [ 798,  615,  489, ..., 3039, 2876, 2800]],\n",
            "\n",
            "       ...,\n",
            "\n",
            "       [[ 689,  560,  701, ..., 1314, 1265, 1271],\n",
            "        [ 497,  785, 1029, ..., 1226, 1237, 1255],\n",
            "        [ 947,  634,  587, ..., 1260, 1232, 1252],\n",
            "        ...,\n",
            "        [ 812,  483,  220, ..., 1791, 1699, 1641],\n",
            "        [ 840,  538,  494, ..., 1506, 1456, 1411],\n",
            "        [ 187,  305,  343, ..., 1512, 1415, 1399]],\n",
            "\n",
            "       [[ 895,  586,  635, ..., 1302, 1281, 1290],\n",
            "        [ 211,  373,  733, ..., 1270, 1248, 1244],\n",
            "        [ 971,  881,  701, ..., 1261, 1272, 1302],\n",
            "        ...,\n",
            "        [ 802,  635,  481, ..., 2447, 2365, 2342],\n",
            "        [ 328,  656,  680, ..., 2234, 2137, 2140],\n",
            "        [ 897,  677,  411, ..., 2107, 1961, 1925]],\n",
            "\n",
            "       [[ 610,  673,  592, ..., 1331, 1320, 1301],\n",
            "        [ 961,  642,  491, ..., 1348, 1333, 1300],\n",
            "        [ 443,  641,  779, ..., 1250, 1241, 1274],\n",
            "        ...,\n",
            "        [ 592,  589,  659, ..., 2688, 2584, 2541],\n",
            "        [ 406,  416,  395, ..., 2849, 2714, 2707],\n",
            "        [ 631,  405,  473, ..., 2810, 2688, 2672]]], dtype=uint16)}\n"
          ]
        }
      ]
    },
    {
      "cell_type": "code",
      "source": [
        "# X data (1096, 715, 102) ---> HyperSpectral Satellite Data.\n",
        "# here, beacause we are using one dimensional CNN like traditional algo. so 1D CNN does not accept a 2D array, it just accespt a vector data, so for that we need to reshpae the data as --> (1096*715, 102) by this we have 783640 rows.\n",
        "# the 1D CNN will now process each pixel's spectral profile as a separate input sample. Each sample is a 1D array of length 102, which is exactly what the 1D CNN expects.\n",
        "# for each pixel, the CNN analyzes patterns accross the spectral dimension(wavelength) rather than spatial patterns, which is effective for material identification.\n",
        "data = loadmat('Pavia')['pavia']"
      ],
      "metadata": {
        "id": "n5R5IvBKzkSe"
      },
      "execution_count": 40,
      "outputs": []
    },
    {
      "cell_type": "code",
      "source": [
        "print(data)"
      ],
      "metadata": {
        "colab": {
          "base_uri": "https://localhost:8080/"
        },
        "id": "mJ7xyChT0KGm",
        "outputId": "725fa7d0-d7d3-42d1-d5bc-e5a287b96e7d"
      },
      "execution_count": null,
      "outputs": [
        {
          "output_type": "stream",
          "name": "stdout",
          "text": [
            "[[[ 854  601  350 ... 3664 3636 3643]\n",
            "  [ 527  642  575 ... 3834 3725 3768]\n",
            "  [ 374  322  179 ... 4318 4311 4321]\n",
            "  ...\n",
            "  [ 367  432  461 ... 2582 2504 2512]\n",
            "  [ 261  311  366 ... 2269 2174 2163]\n",
            "  [1059  678  403 ... 2245 2135 2136]]\n",
            "\n",
            " [[1060  909  596 ... 2963 2967 2974]\n",
            "  [ 707  757  646 ... 3508 3534 3648]\n",
            "  [ 143  419  417 ... 4650 4612 4638]\n",
            "  ...\n",
            "  [ 465  547  537 ... 3156 3052 3035]\n",
            "  [ 884  615  401 ... 2792 2667 2639]\n",
            "  [ 756  401  213 ... 2600 2484 2445]]\n",
            "\n",
            " [[ 532  545  594 ... 1675 1653 1680]\n",
            "  [ 523  491  321 ... 3339 3349 3403]\n",
            "  [ 816  681  369 ... 4627 4600 4650]\n",
            "  ...\n",
            "  [ 408  539  436 ... 3099 3005 3006]\n",
            "  [ 393  447  476 ... 3172 3048 3032]\n",
            "  [ 798  615  489 ... 3039 2876 2800]]\n",
            "\n",
            " ...\n",
            "\n",
            " [[ 689  560  701 ... 1314 1265 1271]\n",
            "  [ 497  785 1029 ... 1226 1237 1255]\n",
            "  [ 947  634  587 ... 1260 1232 1252]\n",
            "  ...\n",
            "  [ 812  483  220 ... 1791 1699 1641]\n",
            "  [ 840  538  494 ... 1506 1456 1411]\n",
            "  [ 187  305  343 ... 1512 1415 1399]]\n",
            "\n",
            " [[ 895  586  635 ... 1302 1281 1290]\n",
            "  [ 211  373  733 ... 1270 1248 1244]\n",
            "  [ 971  881  701 ... 1261 1272 1302]\n",
            "  ...\n",
            "  [ 802  635  481 ... 2447 2365 2342]\n",
            "  [ 328  656  680 ... 2234 2137 2140]\n",
            "  [ 897  677  411 ... 2107 1961 1925]]\n",
            "\n",
            " [[ 610  673  592 ... 1331 1320 1301]\n",
            "  [ 961  642  491 ... 1348 1333 1300]\n",
            "  [ 443  641  779 ... 1250 1241 1274]\n",
            "  ...\n",
            "  [ 592  589  659 ... 2688 2584 2541]\n",
            "  [ 406  416  395 ... 2849 2714 2707]\n",
            "  [ 631  405  473 ... 2810 2688 2672]]]\n"
          ]
        }
      ]
    },
    {
      "cell_type": "code",
      "source": [
        "gt = loadmat('Pavia_gt.mat')"
      ],
      "metadata": {
        "id": "RrvwbbZM0Le9"
      },
      "execution_count": null,
      "outputs": []
    },
    {
      "cell_type": "code",
      "source": [
        "print(gt)"
      ],
      "metadata": {
        "colab": {
          "base_uri": "https://localhost:8080/"
        },
        "id": "BJvpRqLf1P7M",
        "outputId": "99fa9edc-2c75-49b5-8a05-f1b614fbb2cd"
      },
      "execution_count": null,
      "outputs": [
        {
          "output_type": "stream",
          "name": "stdout",
          "text": [
            "{'__header__': b'MATLAB 5.0 MAT-file, Platform: GLNXA64, Created on: Fri May 20 18:26:22 2011', '__version__': '1.0', '__globals__': [], 'pavia_gt': array([[0, 0, 0, ..., 0, 0, 0],\n",
            "       [0, 0, 0, ..., 0, 0, 0],\n",
            "       [0, 0, 0, ..., 0, 0, 0],\n",
            "       ...,\n",
            "       [0, 0, 0, ..., 0, 0, 0],\n",
            "       [0, 0, 0, ..., 0, 0, 0],\n",
            "       [0, 0, 0, ..., 0, 0, 0]], dtype=uint8)}\n"
          ]
        }
      ]
    },
    {
      "cell_type": "code",
      "source": [
        "# Y data (labels) --> class\n",
        "gt = loadmat('Pavia_gt.mat')['pavia_gt']"
      ],
      "metadata": {
        "id": "WhsVsOC31RTE"
      },
      "execution_count": null,
      "outputs": []
    },
    {
      "cell_type": "code",
      "source": [
        "print(gt)"
      ],
      "metadata": {
        "colab": {
          "base_uri": "https://localhost:8080/"
        },
        "id": "mv1qkEk42GzE",
        "outputId": "b646e7bc-0318-4b3e-c069-a0273ae41555"
      },
      "execution_count": null,
      "outputs": [
        {
          "output_type": "stream",
          "name": "stdout",
          "text": [
            "[[0 0 0 ... 0 0 0]\n",
            " [0 0 0 ... 0 0 0]\n",
            " [0 0 0 ... 0 0 0]\n",
            " ...\n",
            " [0 0 0 ... 0 0 0]\n",
            " [0 0 0 ... 0 0 0]\n",
            " [0 0 0 ... 0 0 0]]\n"
          ]
        }
      ]
    },
    {
      "cell_type": "code",
      "source": [
        "print(f'Data Shpae: {data.shape[:-1]}\\nNumber of Bands: {data.shape[-1]}')"
      ],
      "metadata": {
        "colab": {
          "base_uri": "https://localhost:8080/"
        },
        "id": "onQV4WZO2fO1",
        "outputId": "a944135d-7267-499f-d2d2-640357b6046c"
      },
      "execution_count": null,
      "outputs": [
        {
          "output_type": "stream",
          "name": "stdout",
          "text": [
            "Data Shpae: (1096, 715)\n",
            "Number of Bands: 102\n"
          ]
        }
      ]
    },
    {
      "cell_type": "code",
      "source": [
        "df = pd.DataFrame(data.reshape(data.shape[0]*data.shape[1], -1))"
      ],
      "metadata": {
        "id": "UWKRqg1t2t9r"
      },
      "execution_count": null,
      "outputs": []
    },
    {
      "cell_type": "code",
      "source": [
        "df.columns = [f'band{i}' for i in range(1,df.shape[-1]+1)]"
      ],
      "metadata": {
        "id": "RPNb6s5j5YH3"
      },
      "execution_count": null,
      "outputs": []
    },
    {
      "cell_type": "code",
      "source": [
        "df['class'] = gt.ravel()"
      ],
      "metadata": {
        "id": "Mlt1Zrkm5kgX"
      },
      "execution_count": null,
      "outputs": []
    },
    {
      "cell_type": "code",
      "source": [
        "df.head()"
      ],
      "metadata": {
        "colab": {
          "base_uri": "https://localhost:8080/",
          "height": 235
        },
        "id": "diNcv8W15sM3",
        "outputId": "bb461ae6-10eb-4d26-bdf2-32f791599269"
      },
      "execution_count": 42,
      "outputs": [
        {
          "output_type": "execute_result",
          "data": {
            "text/plain": [
              "   band1  band2  band3  band4  band5  band6  band7  band8  band9  band10  ...  \\\n",
              "0    854    601    350    266    138    118    178    194    257     269  ...   \n",
              "1    527    642    575    294    123    168    207    154    209     299  ...   \n",
              "2    374    322    179     87    169    268    360    339    286     309  ...   \n",
              "3    706    520    560    572    425    243    271    272    258     276  ...   \n",
              "4   1120   1027    592    414    407    463    417    365    332     334  ...   \n",
              "\n",
              "   band94  band95  band96  band97  band98  band99  band100  band101  band102  \\\n",
              "0    3759    3773    3779    3752    3690    3671     3664     3636     3643   \n",
              "1    3873    3902    3921    3861    3854    3882     3834     3725     3768   \n",
              "2    4443    4472    4428    4353    4306    4284     4318     4311     4321   \n",
              "3    3972    4006    4032    3975    3946    3954     3944     3936     3939   \n",
              "4    4502    4485    4479    4445    4364    4290     4268     4235     4272   \n",
              "\n",
              "   class  \n",
              "0      0  \n",
              "1      0  \n",
              "2      0  \n",
              "3      0  \n",
              "4      0  \n",
              "\n",
              "[5 rows x 103 columns]"
            ],
            "text/html": [
              "\n",
              "  <div id=\"df-11230227-835d-48d1-9719-95020d97cc4e\" class=\"colab-df-container\">\n",
              "    <div>\n",
              "<style scoped>\n",
              "    .dataframe tbody tr th:only-of-type {\n",
              "        vertical-align: middle;\n",
              "    }\n",
              "\n",
              "    .dataframe tbody tr th {\n",
              "        vertical-align: top;\n",
              "    }\n",
              "\n",
              "    .dataframe thead th {\n",
              "        text-align: right;\n",
              "    }\n",
              "</style>\n",
              "<table border=\"1\" class=\"dataframe\">\n",
              "  <thead>\n",
              "    <tr style=\"text-align: right;\">\n",
              "      <th></th>\n",
              "      <th>band1</th>\n",
              "      <th>band2</th>\n",
              "      <th>band3</th>\n",
              "      <th>band4</th>\n",
              "      <th>band5</th>\n",
              "      <th>band6</th>\n",
              "      <th>band7</th>\n",
              "      <th>band8</th>\n",
              "      <th>band9</th>\n",
              "      <th>band10</th>\n",
              "      <th>...</th>\n",
              "      <th>band94</th>\n",
              "      <th>band95</th>\n",
              "      <th>band96</th>\n",
              "      <th>band97</th>\n",
              "      <th>band98</th>\n",
              "      <th>band99</th>\n",
              "      <th>band100</th>\n",
              "      <th>band101</th>\n",
              "      <th>band102</th>\n",
              "      <th>class</th>\n",
              "    </tr>\n",
              "  </thead>\n",
              "  <tbody>\n",
              "    <tr>\n",
              "      <th>0</th>\n",
              "      <td>854</td>\n",
              "      <td>601</td>\n",
              "      <td>350</td>\n",
              "      <td>266</td>\n",
              "      <td>138</td>\n",
              "      <td>118</td>\n",
              "      <td>178</td>\n",
              "      <td>194</td>\n",
              "      <td>257</td>\n",
              "      <td>269</td>\n",
              "      <td>...</td>\n",
              "      <td>3759</td>\n",
              "      <td>3773</td>\n",
              "      <td>3779</td>\n",
              "      <td>3752</td>\n",
              "      <td>3690</td>\n",
              "      <td>3671</td>\n",
              "      <td>3664</td>\n",
              "      <td>3636</td>\n",
              "      <td>3643</td>\n",
              "      <td>0</td>\n",
              "    </tr>\n",
              "    <tr>\n",
              "      <th>1</th>\n",
              "      <td>527</td>\n",
              "      <td>642</td>\n",
              "      <td>575</td>\n",
              "      <td>294</td>\n",
              "      <td>123</td>\n",
              "      <td>168</td>\n",
              "      <td>207</td>\n",
              "      <td>154</td>\n",
              "      <td>209</td>\n",
              "      <td>299</td>\n",
              "      <td>...</td>\n",
              "      <td>3873</td>\n",
              "      <td>3902</td>\n",
              "      <td>3921</td>\n",
              "      <td>3861</td>\n",
              "      <td>3854</td>\n",
              "      <td>3882</td>\n",
              "      <td>3834</td>\n",
              "      <td>3725</td>\n",
              "      <td>3768</td>\n",
              "      <td>0</td>\n",
              "    </tr>\n",
              "    <tr>\n",
              "      <th>2</th>\n",
              "      <td>374</td>\n",
              "      <td>322</td>\n",
              "      <td>179</td>\n",
              "      <td>87</td>\n",
              "      <td>169</td>\n",
              "      <td>268</td>\n",
              "      <td>360</td>\n",
              "      <td>339</td>\n",
              "      <td>286</td>\n",
              "      <td>309</td>\n",
              "      <td>...</td>\n",
              "      <td>4443</td>\n",
              "      <td>4472</td>\n",
              "      <td>4428</td>\n",
              "      <td>4353</td>\n",
              "      <td>4306</td>\n",
              "      <td>4284</td>\n",
              "      <td>4318</td>\n",
              "      <td>4311</td>\n",
              "      <td>4321</td>\n",
              "      <td>0</td>\n",
              "    </tr>\n",
              "    <tr>\n",
              "      <th>3</th>\n",
              "      <td>706</td>\n",
              "      <td>520</td>\n",
              "      <td>560</td>\n",
              "      <td>572</td>\n",
              "      <td>425</td>\n",
              "      <td>243</td>\n",
              "      <td>271</td>\n",
              "      <td>272</td>\n",
              "      <td>258</td>\n",
              "      <td>276</td>\n",
              "      <td>...</td>\n",
              "      <td>3972</td>\n",
              "      <td>4006</td>\n",
              "      <td>4032</td>\n",
              "      <td>3975</td>\n",
              "      <td>3946</td>\n",
              "      <td>3954</td>\n",
              "      <td>3944</td>\n",
              "      <td>3936</td>\n",
              "      <td>3939</td>\n",
              "      <td>0</td>\n",
              "    </tr>\n",
              "    <tr>\n",
              "      <th>4</th>\n",
              "      <td>1120</td>\n",
              "      <td>1027</td>\n",
              "      <td>592</td>\n",
              "      <td>414</td>\n",
              "      <td>407</td>\n",
              "      <td>463</td>\n",
              "      <td>417</td>\n",
              "      <td>365</td>\n",
              "      <td>332</td>\n",
              "      <td>334</td>\n",
              "      <td>...</td>\n",
              "      <td>4502</td>\n",
              "      <td>4485</td>\n",
              "      <td>4479</td>\n",
              "      <td>4445</td>\n",
              "      <td>4364</td>\n",
              "      <td>4290</td>\n",
              "      <td>4268</td>\n",
              "      <td>4235</td>\n",
              "      <td>4272</td>\n",
              "      <td>0</td>\n",
              "    </tr>\n",
              "  </tbody>\n",
              "</table>\n",
              "<p>5 rows × 103 columns</p>\n",
              "</div>\n",
              "    <div class=\"colab-df-buttons\">\n",
              "\n",
              "  <div class=\"colab-df-container\">\n",
              "    <button class=\"colab-df-convert\" onclick=\"convertToInteractive('df-11230227-835d-48d1-9719-95020d97cc4e')\"\n",
              "            title=\"Convert this dataframe to an interactive table.\"\n",
              "            style=\"display:none;\">\n",
              "\n",
              "  <svg xmlns=\"http://www.w3.org/2000/svg\" height=\"24px\" viewBox=\"0 -960 960 960\">\n",
              "    <path d=\"M120-120v-720h720v720H120Zm60-500h600v-160H180v160Zm220 220h160v-160H400v160Zm0 220h160v-160H400v160ZM180-400h160v-160H180v160Zm440 0h160v-160H620v160ZM180-180h160v-160H180v160Zm440 0h160v-160H620v160Z\"/>\n",
              "  </svg>\n",
              "    </button>\n",
              "\n",
              "  <style>\n",
              "    .colab-df-container {\n",
              "      display:flex;\n",
              "      gap: 12px;\n",
              "    }\n",
              "\n",
              "    .colab-df-convert {\n",
              "      background-color: #E8F0FE;\n",
              "      border: none;\n",
              "      border-radius: 50%;\n",
              "      cursor: pointer;\n",
              "      display: none;\n",
              "      fill: #1967D2;\n",
              "      height: 32px;\n",
              "      padding: 0 0 0 0;\n",
              "      width: 32px;\n",
              "    }\n",
              "\n",
              "    .colab-df-convert:hover {\n",
              "      background-color: #E2EBFA;\n",
              "      box-shadow: 0px 1px 2px rgba(60, 64, 67, 0.3), 0px 1px 3px 1px rgba(60, 64, 67, 0.15);\n",
              "      fill: #174EA6;\n",
              "    }\n",
              "\n",
              "    .colab-df-buttons div {\n",
              "      margin-bottom: 4px;\n",
              "    }\n",
              "\n",
              "    [theme=dark] .colab-df-convert {\n",
              "      background-color: #3B4455;\n",
              "      fill: #D2E3FC;\n",
              "    }\n",
              "\n",
              "    [theme=dark] .colab-df-convert:hover {\n",
              "      background-color: #434B5C;\n",
              "      box-shadow: 0px 1px 3px 1px rgba(0, 0, 0, 0.15);\n",
              "      filter: drop-shadow(0px 1px 2px rgba(0, 0, 0, 0.3));\n",
              "      fill: #FFFFFF;\n",
              "    }\n",
              "  </style>\n",
              "\n",
              "    <script>\n",
              "      const buttonEl =\n",
              "        document.querySelector('#df-11230227-835d-48d1-9719-95020d97cc4e button.colab-df-convert');\n",
              "      buttonEl.style.display =\n",
              "        google.colab.kernel.accessAllowed ? 'block' : 'none';\n",
              "\n",
              "      async function convertToInteractive(key) {\n",
              "        const element = document.querySelector('#df-11230227-835d-48d1-9719-95020d97cc4e');\n",
              "        const dataTable =\n",
              "          await google.colab.kernel.invokeFunction('convertToInteractive',\n",
              "                                                    [key], {});\n",
              "        if (!dataTable) return;\n",
              "\n",
              "        const docLinkHtml = 'Like what you see? Visit the ' +\n",
              "          '<a target=\"_blank\" href=https://colab.research.google.com/notebooks/data_table.ipynb>data table notebook</a>'\n",
              "          + ' to learn more about interactive tables.';\n",
              "        element.innerHTML = '';\n",
              "        dataTable['output_type'] = 'display_data';\n",
              "        await google.colab.output.renderOutput(dataTable, element);\n",
              "        const docLink = document.createElement('div');\n",
              "        docLink.innerHTML = docLinkHtml;\n",
              "        element.appendChild(docLink);\n",
              "      }\n",
              "    </script>\n",
              "  </div>\n",
              "\n",
              "\n",
              "<div id=\"df-265ab0c1-9ddb-441e-a8a1-a8debb4791f5\">\n",
              "  <button class=\"colab-df-quickchart\" onclick=\"quickchart('df-265ab0c1-9ddb-441e-a8a1-a8debb4791f5')\"\n",
              "            title=\"Suggest charts\"\n",
              "            style=\"display:none;\">\n",
              "\n",
              "<svg xmlns=\"http://www.w3.org/2000/svg\" height=\"24px\"viewBox=\"0 0 24 24\"\n",
              "     width=\"24px\">\n",
              "    <g>\n",
              "        <path d=\"M19 3H5c-1.1 0-2 .9-2 2v14c0 1.1.9 2 2 2h14c1.1 0 2-.9 2-2V5c0-1.1-.9-2-2-2zM9 17H7v-7h2v7zm4 0h-2V7h2v10zm4 0h-2v-4h2v4z\"/>\n",
              "    </g>\n",
              "</svg>\n",
              "  </button>\n",
              "\n",
              "<style>\n",
              "  .colab-df-quickchart {\n",
              "      --bg-color: #E8F0FE;\n",
              "      --fill-color: #1967D2;\n",
              "      --hover-bg-color: #E2EBFA;\n",
              "      --hover-fill-color: #174EA6;\n",
              "      --disabled-fill-color: #AAA;\n",
              "      --disabled-bg-color: #DDD;\n",
              "  }\n",
              "\n",
              "  [theme=dark] .colab-df-quickchart {\n",
              "      --bg-color: #3B4455;\n",
              "      --fill-color: #D2E3FC;\n",
              "      --hover-bg-color: #434B5C;\n",
              "      --hover-fill-color: #FFFFFF;\n",
              "      --disabled-bg-color: #3B4455;\n",
              "      --disabled-fill-color: #666;\n",
              "  }\n",
              "\n",
              "  .colab-df-quickchart {\n",
              "    background-color: var(--bg-color);\n",
              "    border: none;\n",
              "    border-radius: 50%;\n",
              "    cursor: pointer;\n",
              "    display: none;\n",
              "    fill: var(--fill-color);\n",
              "    height: 32px;\n",
              "    padding: 0;\n",
              "    width: 32px;\n",
              "  }\n",
              "\n",
              "  .colab-df-quickchart:hover {\n",
              "    background-color: var(--hover-bg-color);\n",
              "    box-shadow: 0 1px 2px rgba(60, 64, 67, 0.3), 0 1px 3px 1px rgba(60, 64, 67, 0.15);\n",
              "    fill: var(--button-hover-fill-color);\n",
              "  }\n",
              "\n",
              "  .colab-df-quickchart-complete:disabled,\n",
              "  .colab-df-quickchart-complete:disabled:hover {\n",
              "    background-color: var(--disabled-bg-color);\n",
              "    fill: var(--disabled-fill-color);\n",
              "    box-shadow: none;\n",
              "  }\n",
              "\n",
              "  .colab-df-spinner {\n",
              "    border: 2px solid var(--fill-color);\n",
              "    border-color: transparent;\n",
              "    border-bottom-color: var(--fill-color);\n",
              "    animation:\n",
              "      spin 1s steps(1) infinite;\n",
              "  }\n",
              "\n",
              "  @keyframes spin {\n",
              "    0% {\n",
              "      border-color: transparent;\n",
              "      border-bottom-color: var(--fill-color);\n",
              "      border-left-color: var(--fill-color);\n",
              "    }\n",
              "    20% {\n",
              "      border-color: transparent;\n",
              "      border-left-color: var(--fill-color);\n",
              "      border-top-color: var(--fill-color);\n",
              "    }\n",
              "    30% {\n",
              "      border-color: transparent;\n",
              "      border-left-color: var(--fill-color);\n",
              "      border-top-color: var(--fill-color);\n",
              "      border-right-color: var(--fill-color);\n",
              "    }\n",
              "    40% {\n",
              "      border-color: transparent;\n",
              "      border-right-color: var(--fill-color);\n",
              "      border-top-color: var(--fill-color);\n",
              "    }\n",
              "    60% {\n",
              "      border-color: transparent;\n",
              "      border-right-color: var(--fill-color);\n",
              "    }\n",
              "    80% {\n",
              "      border-color: transparent;\n",
              "      border-right-color: var(--fill-color);\n",
              "      border-bottom-color: var(--fill-color);\n",
              "    }\n",
              "    90% {\n",
              "      border-color: transparent;\n",
              "      border-bottom-color: var(--fill-color);\n",
              "    }\n",
              "  }\n",
              "</style>\n",
              "\n",
              "  <script>\n",
              "    async function quickchart(key) {\n",
              "      const quickchartButtonEl =\n",
              "        document.querySelector('#' + key + ' button');\n",
              "      quickchartButtonEl.disabled = true;  // To prevent multiple clicks.\n",
              "      quickchartButtonEl.classList.add('colab-df-spinner');\n",
              "      try {\n",
              "        const charts = await google.colab.kernel.invokeFunction(\n",
              "            'suggestCharts', [key], {});\n",
              "      } catch (error) {\n",
              "        console.error('Error during call to suggestCharts:', error);\n",
              "      }\n",
              "      quickchartButtonEl.classList.remove('colab-df-spinner');\n",
              "      quickchartButtonEl.classList.add('colab-df-quickchart-complete');\n",
              "    }\n",
              "    (() => {\n",
              "      let quickchartButtonEl =\n",
              "        document.querySelector('#df-265ab0c1-9ddb-441e-a8a1-a8debb4791f5 button');\n",
              "      quickchartButtonEl.style.display =\n",
              "        google.colab.kernel.accessAllowed ? 'block' : 'none';\n",
              "    })();\n",
              "  </script>\n",
              "</div>\n",
              "\n",
              "    </div>\n",
              "  </div>\n"
            ],
            "application/vnd.google.colaboratory.intrinsic+json": {
              "type": "dataframe",
              "variable_name": "df"
            }
          },
          "metadata": {},
          "execution_count": 42
        }
      ]
    },
    {
      "cell_type": "code",
      "source": [
        "df.shape"
      ],
      "metadata": {
        "id": "8_q_KCaz5-VH",
        "colab": {
          "base_uri": "https://localhost:8080/"
        },
        "outputId": "35ed7366-a383-42f3-d754-662c0f7f3afb"
      },
      "execution_count": 43,
      "outputs": [
        {
          "output_type": "execute_result",
          "data": {
            "text/plain": [
              "(783640, 103)"
            ]
          },
          "metadata": {},
          "execution_count": 43
        }
      ]
    },
    {
      "cell_type": "markdown",
      "source": [
        "# Data Visualization"
      ],
      "metadata": {
        "id": "Ze6H3tRWA1Mx"
      }
    },
    {
      "cell_type": "code",
      "source": [],
      "metadata": {
        "id": "4MP5_oEl-t-T"
      },
      "execution_count": null,
      "outputs": []
    }
  ]
}